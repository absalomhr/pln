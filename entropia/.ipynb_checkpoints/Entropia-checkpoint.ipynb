{
 "cells": [
  {
   "cell_type": "markdown",
   "metadata": {},
   "source": [
    "# Entropía condicional"
   ]
  },
  {
   "cell_type": "markdown",
   "metadata": {},
   "source": [
    "#### Cargamos el texto para su normalización (preprocesamiento)"
   ]
  },
  {
   "cell_type": "code",
   "execution_count": 3,
   "metadata": {},
   "outputs": [],
   "source": [
    "nombre_archivo = \"e960401_mod.htm\"\n",
    "dir_archivo = \"./texto/\"\n",
    "archivo = open(dir_archivo + filename, encoding='utf-8')\n",
    "texto = archivo.read()"
   ]
  },
  {
   "cell_type": "markdown",
   "metadata": {},
   "source": [
    "#### Quitamos las etiquetas html del texto"
   ]
  },
  {
   "cell_type": "code",
   "execution_count": 6,
   "metadata": {},
   "outputs": [],
   "source": [
    "def quitar_html(texto):\n",
    "    from bs4 import BeautifulSoup\n",
    "    soup = BeautifulSoup(texto, 'lxml')\n",
    "    return soup.get_text()\n",
    "texto = quitar_html(texto)"
   ]
  },
  {
   "cell_type": "markdown",
   "metadata": {},
   "source": [
    "#### Ahora podemos dividir el texto en oraciones"
   ]
  },
  {
   "cell_type": "code",
   "execution_count": 8,
   "metadata": {},
   "outputs": [],
   "source": [
    "def obtener_oraciones(texto):\n",
    "    import nltk\n",
    "    sent_tokenizer = nltk.data.load('nltk:tokenizers/punkt/english.pickle')\n",
    "    return sent_tokenizer.tokenize(texto)\n",
    "oraciones = obtener_oraciones(texto)"
   ]
  },
  {
   "cell_type": "markdown",
   "metadata": {},
   "source": [
    "Ya que tenemos las oraciones hay que realizar varios pasos de normalización. Primero quitamos "
   ]
  }
 ],
 "metadata": {
  "kernelspec": {
   "display_name": "Python 3",
   "language": "python",
   "name": "python3"
  },
  "language_info": {
   "codemirror_mode": {
    "name": "ipython",
    "version": 3
   },
   "file_extension": ".py",
   "mimetype": "text/x-python",
   "name": "python",
   "nbconvert_exporter": "python",
   "pygments_lexer": "ipython3",
   "version": "3.7.3"
  }
 },
 "nbformat": 4,
 "nbformat_minor": 2
}
